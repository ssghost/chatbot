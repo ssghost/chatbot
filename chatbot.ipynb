{
  "nbformat": 4,
  "nbformat_minor": 0,
  "metadata": {
    "colab": {
      "name": "chatbot.ipynb",
      "provenance": [],
      "authorship_tag": "ABX9TyO0kLEsJKvP9buHoHgOHQqq",
      "include_colab_link": true
    },
    "kernelspec": {
      "name": "python3",
      "display_name": "Python 3"
    }
  },
  "cells": [
    {
      "cell_type": "markdown",
      "metadata": {
        "id": "view-in-github",
        "colab_type": "text"
      },
      "source": [
        "<a href=\"https://colab.research.google.com/github/suzana-ilic/chatbot/blob/master/chatbot.ipynb\" target=\"_parent\"><img src=\"https://colab.research.google.com/assets/colab-badge.svg\" alt=\"Open In Colab\"/></a>"
      ]
    },
    {
      "cell_type": "markdown",
      "metadata": {
        "id": "M9VWYiEKIacL",
        "colab_type": "text"
      },
      "source": [
        "# Build a Scalable AI Chatbot\n",
        "\n",
        "This notebook is based on the [MLT](https://www.meetup.com/Machine-Learning-Tokyo/events/272502001/) workshop by Bespoke R&D Lead Max Frenzel and ML Engineer Asir Saeed. You can find the [repository here](https://github.com/bespoke-inc/bespoke-public-talks/tree/master/2020/2020-08-22-MLT-Rules-to-DL) and the presentation and video tutorial on [MLT YouTube](https://www.youtube.com/mltokyo)."
      ]
    },
    {
      "cell_type": "code",
      "metadata": {
        "id": "78Co0sshL4bE",
        "colab_type": "code",
        "colab": {}
      },
      "source": [
        "#!wget https://raw.githubusercontent.com/bespoke-inc/bespoke-public-talks/master/2020/2020-08-22-MLT-Rules-to-DL/requirements.txt\n",
        "#!pip install -r requirements.txt\n",
        "#!wget https://raw.githubusercontent.com/bespoke-inc/bespoke-public-talks/master/2020/2020-08-22-MLT-Rules-to-DL/training_sample.json"
      ],
      "execution_count": null,
      "outputs": []
    },
    {
      "cell_type": "code",
      "metadata": {
        "id": "XnOAK-7IuanA",
        "colab_type": "code",
        "colab": {}
      },
      "source": [
        "import pandas as pd\n",
        "import json"
      ],
      "execution_count": 3,
      "outputs": []
    },
    {
      "cell_type": "code",
      "metadata": {
        "id": "-S94CJG1wTIo",
        "colab_type": "code",
        "colab": {}
      },
      "source": [
        "training_data = json.load(open('./training_sample.json','r'))"
      ],
      "execution_count": 4,
      "outputs": []
    },
    {
      "cell_type": "code",
      "metadata": {
        "id": "-yZ1ZE52vqOq",
        "colab_type": "code",
        "colab": {
          "base_uri": "https://localhost:8080/",
          "height": 102
        },
        "outputId": "ba95eae2-d893-42c7-9baf-2a031808ac3c"
      },
      "source": [
        "list(training_data.keys())"
      ],
      "execution_count": 5,
      "outputs": [
        {
          "output_type": "execute_result",
          "data": {
            "text/plain": [
              "['hotel.when_is_check_in',\n",
              " 'hotel.when_is_check_out',\n",
              " 'hotel.is_there_early_check_in',\n",
              " 'hotel.is_there_late_check_out',\n",
              " 'hotel.where_is_the_front_desk_located']"
            ]
          },
          "metadata": {
            "tags": []
          },
          "execution_count": 5
        }
      ]
    },
    {
      "cell_type": "code",
      "metadata": {
        "id": "SB4iRIBTvspp",
        "colab_type": "code",
        "colab": {}
      },
      "source": [
        "answers = {\n",
        "    'hotel.when_is_check_in': 'Check in is at 3pm!',\n",
        "    'hotel.when_is_check_out': 'Check out is at 10am!',\n",
        "    'hotel.is_there_late_check_out': 'For early check-out or late check-in please schedule beforehand',\n",
        "    'hotel.is_there_early_check_in': 'For early check-out or late check-in please schedule beforehand',\n",
        "    'hotel.where_is_the_front_desk_located': 'Front desk is located on the 2nd floor'\n",
        "    }"
      ],
      "execution_count": 6,
      "outputs": []
    },
    {
      "cell_type": "code",
      "metadata": {
        "id": "IC8xnZXJwW3f",
        "colab_type": "code",
        "colab": {}
      },
      "source": [
        "import re"
      ],
      "execution_count": 7,
      "outputs": []
    },
    {
      "cell_type": "code",
      "metadata": {
        "id": "GnfcIcL1wafM",
        "colab_type": "code",
        "colab": {}
      },
      "source": [
        "punct_re_escape = re.compile('[%s]' % re.escape('!\"#$%&()*+,./:;<=>?@[\\\\]^_`{|}~'))\n",
        "\n",
        "class MyChatbotData:\n",
        "    \n",
        "    def __init__(self, json_obj, text_fld, answers):\n",
        "        dfs = []\n",
        "        for i, (intent, data) in enumerate(json_obj.items()):\n",
        "            # lowercase and remove punctuation\n",
        "            patterns = data[text_fld].copy()\n",
        "            for i, p in enumerate(patterns):\n",
        "                p = p.lower()\n",
        "                p = self.remove_punctuation(p)\n",
        "                patterns[i] = p\n",
        "                answer = answers[intent]\n",
        "            df = pd.DataFrame(list(zip([intent]*len(patterns), patterns, [answer]*len(patterns))), \\\n",
        "                              columns=['intent', 'phrase', 'answer'])\n",
        "            dfs.append(df)\n",
        "        self.df = pd.concat(dfs)\n",
        "    \n",
        "    def get_answer(self, intent):\n",
        "        return pd.unique(self.df[self.df['intent'] == intent]['answer'])[0]\n",
        "    \n",
        "    def remove_punctuation(self, text):\n",
        "        return punct_re_escape.sub('', text)\n",
        "    \n",
        "    def get_phrases(self, intent):\n",
        "        return list(self.df[self.df['intent'] == intent]['phrase'])\n",
        "    \n",
        "    def get_intents(self):\n",
        "        return list(pd.unique(self.df['intent']))\n",
        "    \n",
        "    def show_batch(self, size=5):\n",
        "        return self.df.head(size)\n",
        "    \n",
        "    def __len__(self):\n",
        "        return len(self.df)"
      ],
      "execution_count": 8,
      "outputs": []
    },
    {
      "cell_type": "code",
      "metadata": {
        "id": "Q9CnrryGwcWT",
        "colab_type": "code",
        "colab": {}
      },
      "source": [
        "chatbot_data = MyChatbotData(training_data, 'patterns', answers)\n"
      ],
      "execution_count": 9,
      "outputs": []
    },
    {
      "cell_type": "code",
      "metadata": {
        "id": "voGRKbV-xX_F",
        "colab_type": "code",
        "colab": {
          "base_uri": "https://localhost:8080/",
          "height": 34
        },
        "outputId": "4d15b730-a109-4072-8336-0b72f314cead"
      },
      "source": [
        "len(chatbot_data)\n"
      ],
      "execution_count": 10,
      "outputs": [
        {
          "output_type": "execute_result",
          "data": {
            "text/plain": [
              "368"
            ]
          },
          "metadata": {
            "tags": []
          },
          "execution_count": 10
        }
      ]
    },
    {
      "cell_type": "markdown",
      "metadata": {
        "id": "7GFwU97zxwUT",
        "colab_type": "text"
      },
      "source": [
        "### Rule-based intent classification matching"
      ]
    },
    {
      "cell_type": "code",
      "metadata": {
        "id": "VdL7_BRgxsX2",
        "colab_type": "code",
        "colab": {}
      },
      "source": [
        "UNK = \"Hmm I'm not sure.\"\n"
      ],
      "execution_count": 11,
      "outputs": []
    },
    {
      "cell_type": "code",
      "metadata": {
        "id": "ybPV5HkdxyHT",
        "colab_type": "code",
        "colab": {}
      },
      "source": [
        "def exact_match(query):\n",
        "    intents = chatbot_data.get_intents()\n",
        "    for i in intents:\n",
        "        phrases = chatbot_data.get_phrases(i)\n",
        "        if query in phrases:\n",
        "            return chatbot_data.get_answer(i)\n",
        "    return UNK"
      ],
      "execution_count": 12,
      "outputs": []
    },
    {
      "cell_type": "code",
      "metadata": {
        "id": "UZHM3uFhyAlp",
        "colab_type": "code",
        "colab": {
          "base_uri": "https://localhost:8080/",
          "height": 35
        },
        "outputId": "4d38b89f-4ad4-4f08-e661-4ad609e6fee6"
      },
      "source": [
        "exact_match(\"is there early check-in\")\n"
      ],
      "execution_count": 13,
      "outputs": [
        {
          "output_type": "execute_result",
          "data": {
            "application/vnd.google.colaboratory.intrinsic+json": {
              "type": "string"
            },
            "text/plain": [
              "'For early check-out or late check-in please schedule beforehand'"
            ]
          },
          "metadata": {
            "tags": []
          },
          "execution_count": 13
        }
      ]
    },
    {
      "cell_type": "code",
      "metadata": {
        "id": "jH4Gh_PLyCVu",
        "colab_type": "code",
        "colab": {
          "base_uri": "https://localhost:8080/",
          "height": 35
        },
        "outputId": "7d2ac5b6-dbba-483b-cc8a-a06a6123cc7a"
      },
      "source": [
        "exact_match(\"can i check-in earlier than 12pm\")\n"
      ],
      "execution_count": 14,
      "outputs": [
        {
          "output_type": "execute_result",
          "data": {
            "application/vnd.google.colaboratory.intrinsic+json": {
              "type": "string"
            },
            "text/plain": [
              "\"Hmm I'm not sure.\""
            ]
          },
          "metadata": {
            "tags": []
          },
          "execution_count": 14
        }
      ]
    },
    {
      "cell_type": "markdown",
      "metadata": {
        "id": "ZihAFru4yJ2E",
        "colab_type": "text"
      },
      "source": [
        "#### Preprocessing\n",
        "* CJK\n",
        "* normalize contractions\n",
        "* remove hyphens\n",
        "* remove stopwords\n",
        "* check for typos\n",
        "* normalize plurals\n",
        "* normalize ascii\n",
        "* normalize emojis\n",
        "* remove punctuation"
      ]
    },
    {
      "cell_type": "code",
      "metadata": {
        "id": "fRMn4iNOyIui",
        "colab_type": "code",
        "colab": {}
      },
      "source": [
        "EMOJIS = [[':)', '😀'],[';)', '😉'],[':(', '😞'],[';((', '😢'],[':p', '😛']]\n",
        "_emoji_re = '[\\U00010000-\\U0010ffff]+'\n",
        "emoji_re = re.compile(_emoji_re, flags=re.UNICODE)\n",
        "\n",
        "def emoji_normalize(text):\n",
        "    for e1, e2 in EMOJIS:\n",
        "        text = text.replace(e1, e2)\n",
        "    return text\n",
        "\n",
        "def is_emoji(text):\n",
        "    emoji = \"\".join(re.findall(_emoji_re, text))\n",
        "    return emoji == text\n",
        "\n",
        "def emoji_isolate(text):\n",
        "    EMJ = \"__EMOJI__\"\n",
        "    emoji_list = re.findall(_emoji_re, text)\n",
        "    text = emoji_re.sub(f\" {EMJ} \", text)\n",
        "    new_str, ctr = [], 0\n",
        "    for tok in text.split():\n",
        "        if tok == EMJ:\n",
        "            new_str.append(emoji_list[ctr])\n",
        "            ctr += 1\n",
        "        else:\n",
        "            new_str.append(tok)\n",
        "    return \" \".join(new_str).strip()"
      ],
      "execution_count": 15,
      "outputs": []
    },
    {
      "cell_type": "code",
      "metadata": {
        "id": "8ViBLGrLyFkY",
        "colab_type": "code",
        "colab": {}
      },
      "source": [
        "import unicodedata\n",
        "\n",
        "def ascii_normalize(text):\n",
        "    return unicodedata.normalize('NFKD', text).encode('ascii', 'ignore').decode(\"utf-8\")\n"
      ],
      "execution_count": 16,
      "outputs": []
    },
    {
      "cell_type": "code",
      "metadata": {
        "id": "5orAPjAzyXTz",
        "colab_type": "code",
        "colab": {}
      },
      "source": [
        "punct_re_escape = re.compile('[%s]' % re.escape('!\"#$%&()*+,./:;<=>?@[\\\\]^_`{|}~'))\n",
        "\n",
        "def remove_punctuation(text):\n",
        "    punct_re_escape.sub('', text)"
      ],
      "execution_count": 17,
      "outputs": []
    },
    {
      "cell_type": "code",
      "metadata": {
        "id": "r3Tg2mJMyZSA",
        "colab_type": "code",
        "colab": {}
      },
      "source": [
        "def preprocess(text):\n",
        "    text = ascii_normalize(text) or text\n",
        "    text = emoji_normalize(text) or text\n",
        "    text = emoji_isolate(text) or text\n",
        "    text = remove_punctuation(text) or text\n",
        "    return text"
      ],
      "execution_count": 18,
      "outputs": []
    },
    {
      "cell_type": "markdown",
      "metadata": {
        "id": "6pGdoDPrz8Cl",
        "colab_type": "text"
      },
      "source": [
        "### Further pre-processing\n",
        "\n",
        "Instead of checking is the entire query string exists in our dataset, we try to find a partial match and pick the intent that matches most closely. We will try to do this with using Levenshtein Distance to calculate the differences between sequences. The library fuzzywuzzy can help us do this.\n",
        "\n"
      ]
    },
    {
      "cell_type": "code",
      "metadata": {
        "id": "NrleJGg9J2UI",
        "colab_type": "code",
        "colab": {
          "base_uri": "https://localhost:8080/",
          "height": 71
        },
        "outputId": "a1e37979-25cd-4186-c3e6-4a1818b70e07"
      },
      "source": [
        "from fuzzywuzzy import process"
      ],
      "execution_count": 19,
      "outputs": [
        {
          "output_type": "stream",
          "text": [
            "/usr/local/lib/python3.6/dist-packages/fuzzywuzzy/fuzz.py:11: UserWarning: Using slow pure-python SequenceMatcher. Install python-Levenshtein to remove this warning\n",
            "  warnings.warn('Using slow pure-python SequenceMatcher. Install python-Levenshtein to remove this warning')\n"
          ],
          "name": "stderr"
        }
      ]
    },
    {
      "cell_type": "code",
      "metadata": {
        "id": "pldiiOqaJ3YE",
        "colab_type": "code",
        "colab": {}
      },
      "source": [
        "def fuzzy_matching(query):\n",
        "    intents = chatbot_data.get_intents()\n",
        "    for i in intents:\n",
        "        phrases = chatbot_data.get_phrases(i)\n",
        "        match, score = process.extractOne(query, phrases)\n",
        "        if score > 90:\n",
        "            return chatbot_data.get_answer(i)\n",
        "    return UNK"
      ],
      "execution_count": 20,
      "outputs": []
    },
    {
      "cell_type": "code",
      "metadata": {
        "id": "z4WvnuO3ybTL",
        "colab_type": "code",
        "colab": {
          "base_uri": "https://localhost:8080/",
          "height": 35
        },
        "outputId": "9ac47ec3-36ff-4dc7-cb32-524b4d3f5c56"
      },
      "source": [
        "fuzzy_matching(\"what time is early check-in\")"
      ],
      "execution_count": 21,
      "outputs": [
        {
          "output_type": "execute_result",
          "data": {
            "application/vnd.google.colaboratory.intrinsic+json": {
              "type": "string"
            },
            "text/plain": [
              "'Check in is at 3pm!'"
            ]
          },
          "metadata": {
            "tags": []
          },
          "execution_count": 21
        }
      ]
    },
    {
      "cell_type": "code",
      "metadata": {
        "id": "PjpXCtN-0As4",
        "colab_type": "code",
        "colab": {
          "base_uri": "https://localhost:8080/",
          "height": 35
        },
        "outputId": "592de32e-e2b7-4c3b-9857-98fca6fba674"
      },
      "source": [
        "fuzzy_matching(\"when do i check-in\")\n"
      ],
      "execution_count": 22,
      "outputs": [
        {
          "output_type": "execute_result",
          "data": {
            "application/vnd.google.colaboratory.intrinsic+json": {
              "type": "string"
            },
            "text/plain": [
              "'Check in is at 3pm!'"
            ]
          },
          "metadata": {
            "tags": []
          },
          "execution_count": 22
        }
      ]
    },
    {
      "cell_type": "code",
      "metadata": {
        "id": "PkxIH_BD0J6o",
        "colab_type": "code",
        "colab": {
          "base_uri": "https://localhost:8080/",
          "height": 35
        },
        "outputId": "29bfb09f-55f3-4233-c73d-f0b465673486"
      },
      "source": [
        "fuzzy_matching(\"hey I want to know what time is early check-in\")"
      ],
      "execution_count": 23,
      "outputs": [
        {
          "output_type": "execute_result",
          "data": {
            "application/vnd.google.colaboratory.intrinsic+json": {
              "type": "string"
            },
            "text/plain": [
              "\"Hmm I'm not sure.\""
            ]
          },
          "metadata": {
            "tags": []
          },
          "execution_count": 23
        }
      ]
    },
    {
      "cell_type": "markdown",
      "metadata": {
        "id": "X99LQLN10v4L",
        "colab_type": "text"
      },
      "source": [
        "### ML Classification\n",
        "We will now add a probabilistic classifier to our set of methods to get better intent classification. The algorithm we will use is a Naive Bayes classifier that works quite well for small amount of training data.\n",
        "\n"
      ]
    },
    {
      "cell_type": "code",
      "metadata": {
        "id": "827rbsGm0lMh",
        "colab_type": "code",
        "colab": {}
      },
      "source": [
        "import spacy"
      ],
      "execution_count": 24,
      "outputs": []
    },
    {
      "cell_type": "code",
      "metadata": {
        "id": "uQWPy9qg04qb",
        "colab_type": "code",
        "colab": {
          "base_uri": "https://localhost:8080/",
          "height": 71
        },
        "outputId": "2f27eff2-efd2-4eca-b09b-1b396e69fd1d"
      },
      "source": [
        "nlp = spacy.load('en_core_web_sm',parse=False,tagger=False)\n"
      ],
      "execution_count": 25,
      "outputs": [
        {
          "output_type": "stream",
          "text": [
            "/usr/local/lib/python3.6/dist-packages/spacy/util.py:271: UserWarning: [W031] Model 'en_core_web_sm' (2.2.5) requires spaCy v2.2 and is incompatible with the current spaCy version (2.3.0). This may lead to unexpected results or runtime errors. To resolve this, download a newer compatible model or retrain your custom model with the current spaCy version. For more details and available updates, run: python -m spacy validate\n",
            "  warnings.warn(warn_msg)\n"
          ],
          "name": "stderr"
        }
      ]
    },
    {
      "cell_type": "code",
      "metadata": {
        "id": "hVIuGa4006hI",
        "colab_type": "code",
        "colab": {
          "base_uri": "https://localhost:8080/",
          "height": 34
        },
        "outputId": "27e38cb7-0f4f-47b8-9e83-e9c1233e3b0c"
      },
      "source": [
        "doc = nlp(\"when can i check in?\")\n",
        "[tok.text for tok in doc]\n"
      ],
      "execution_count": 26,
      "outputs": [
        {
          "output_type": "execute_result",
          "data": {
            "text/plain": [
              "['when', 'can', 'i', 'check', 'in', '?']"
            ]
          },
          "metadata": {
            "tags": []
          },
          "execution_count": 26
        }
      ]
    },
    {
      "cell_type": "code",
      "metadata": {
        "id": "5R_-VMsh08sp",
        "colab_type": "code",
        "colab": {
          "base_uri": "https://localhost:8080/",
          "height": 34
        },
        "outputId": "faa412d2-4122-4051-860f-468bc63687bc"
      },
      "source": [
        "doc = nlp(\"thank you ありがとう\")\n",
        "[tok.text for tok in doc]\n"
      ],
      "execution_count": 27,
      "outputs": [
        {
          "output_type": "execute_result",
          "data": {
            "text/plain": [
              "['thank', 'you', 'ありがとう']"
            ]
          },
          "metadata": {
            "tags": []
          },
          "execution_count": 27
        }
      ]
    },
    {
      "cell_type": "code",
      "metadata": {
        "id": "QohrWL821Aao",
        "colab_type": "code",
        "colab": {
          "base_uri": "https://localhost:8080/",
          "height": 68
        },
        "outputId": "a1755670-b69a-4b9b-f157-2844852bb607"
      },
      "source": [
        "import nltk\n",
        "nltk.download('stopwords')\n"
      ],
      "execution_count": 28,
      "outputs": [
        {
          "output_type": "stream",
          "text": [
            "[nltk_data] Downloading package stopwords to /root/nltk_data...\n",
            "[nltk_data]   Package stopwords is already up-to-date!\n"
          ],
          "name": "stderr"
        },
        {
          "output_type": "execute_result",
          "data": {
            "text/plain": [
              "True"
            ]
          },
          "metadata": {
            "tags": []
          },
          "execution_count": 28
        }
      ]
    },
    {
      "cell_type": "code",
      "metadata": {
        "id": "U6OFz7U41Csg",
        "colab_type": "code",
        "colab": {}
      },
      "source": [
        "from nltk.corpus import stopwords\n",
        "stopwords = set(stopwords.words('english'))\n"
      ],
      "execution_count": 29,
      "outputs": []
    },
    {
      "cell_type": "code",
      "metadata": {
        "id": "YQkzFxtJ1Fra",
        "colab_type": "code",
        "colab": {
          "base_uri": "https://localhost:8080/",
          "height": 54
        },
        "outputId": "d9e49316-e857-4847-845d-a2ecaf3ad216"
      },
      "source": [
        "print(stopwords)"
      ],
      "execution_count": 30,
      "outputs": [
        {
          "output_type": "stream",
          "text": [
            "{'those', 'nor', 'of', 'its', 'mustn', \"it's\", 'our', 'what', 'in', 'be', 'herself', 'being', 'will', 'most', 'ours', \"hasn't\", 'hadn', 'while', 'because', 'll', 'here', 'him', 'further', 'their', 'then', 'from', \"you've\", 'why', 'few', 'some', 'with', 'they', 'itself', 'an', 'can', 'shan', \"isn't\", 'how', 'such', 'but', 'd', 'shouldn', 'very', 'during', 'now', 'myself', 'on', \"you'll\", 'won', 'don', 'not', 'has', 'at', \"should've\", 'yours', 'o', 'didn', 'aren', \"wasn't\", 'no', 'and', 'am', \"couldn't\", 'these', 'themselves', \"you're\", \"mightn't\", 'whom', \"needn't\", 'hasn', 'that', 'your', 'doing', 'you', 'which', 'are', 'y', 'me', 'if', 'been', 'once', \"doesn't\", 'had', 'below', \"you'd\", 'up', \"wouldn't\", 'was', 'did', 'under', 'when', 'i', \"she's\", 'hers', 'her', 'both', 've', 'ain', 'where', 'own', 'so', 'his', 'there', 'couldn', \"haven't\", 'through', 'theirs', \"shan't\", 'over', 'more', \"that'll\", 'haven', 'this', 'by', 'were', 'above', 'other', 'for', 'yourselves', 'ma', 'wouldn', 'my', 't', 'down', 'before', 'off', 's', 'between', 'to', 'again', 'should', 'against', 'having', 'a', \"aren't\", 'than', 'wasn', 'have', 'do', 'them', 'as', 'doesn', 'same', \"weren't\", 'or', 'weren', 'himself', 'any', 'after', \"didn't\", 're', 'she', 'out', \"shouldn't\", 'too', 'yourself', 'the', 'just', 'ourselves', 'only', \"mustn't\", 'all', 'mightn', 'does', 'about', 'into', 'until', 'isn', \"don't\", 'who', 'needn', 'each', 'he', \"hadn't\", 'it', \"won't\", 'we', 'is', 'm'}\n"
          ],
          "name": "stdout"
        }
      ]
    },
    {
      "cell_type": "code",
      "metadata": {
        "id": "x5Yagpvr1E2G",
        "colab_type": "code",
        "colab": {}
      },
      "source": [
        "def tokenize_nd_join(text):\n",
        "    doc = nlp(text.lower())\n",
        "    return \" \".join(tok.text for tok in doc if tok.text.strip() not in stopwords)\n"
      ],
      "execution_count": 31,
      "outputs": []
    },
    {
      "cell_type": "code",
      "metadata": {
        "id": "r0ZXQlcl1lJS",
        "colab_type": "code",
        "colab": {}
      },
      "source": [
        "def get_xs_ys(train_data):\n",
        "    x, y = [], []\n",
        "    intents = chatbot_data.get_intents()\n",
        "    for i in intents:\n",
        "        phrases = chatbot_data.get_phrases(i)\n",
        "        x += [tokenize_nd_join(phrase) for phrase in phrases]\n",
        "        y += [i]*len(phrases)\n",
        "    return x, y\n"
      ],
      "execution_count": 32,
      "outputs": []
    },
    {
      "cell_type": "code",
      "metadata": {
        "id": "_FdNasef1m-t",
        "colab_type": "code",
        "colab": {}
      },
      "source": [
        "from sklearn.naive_bayes import ComplementNB\n",
        "from sklearn.pipeline import Pipeline\n",
        "from sklearn.feature_extraction.text import CountVectorizer, TfidfVectorizer\n"
      ],
      "execution_count": 33,
      "outputs": []
    },
    {
      "cell_type": "code",
      "metadata": {
        "id": "L9-MzT2k1o0z",
        "colab_type": "code",
        "colab": {}
      },
      "source": [
        "def train(x,y):\n",
        "    vect = CountVectorizer(ngram_range=(1,2),max_features=None)\n",
        "    nb = Pipeline([('vect',vect),('clf',ComplementNB(alpha=1.0,norm=False))])\n",
        "    nb.fit(x,y)\n",
        "    return nb\n"
      ],
      "execution_count": 34,
      "outputs": []
    },
    {
      "cell_type": "code",
      "metadata": {
        "id": "Rfw9sBtS1qjx",
        "colab_type": "code",
        "colab": {}
      },
      "source": [
        "x, y = get_xs_ys(training_data)\n",
        "nb_model = train(x, y)\n"
      ],
      "execution_count": 35,
      "outputs": []
    },
    {
      "cell_type": "code",
      "metadata": {
        "id": "zVQcDpcc1tQh",
        "colab_type": "code",
        "colab": {}
      },
      "source": [
        "def nb_pred(query):\n",
        "    tokenized_query = tokenize_nd_join(query)\n",
        "    pred = nb_model.predict([tokenized_query])[0]\n",
        "    return chatbot_data.get_answer(pred)\n"
      ],
      "execution_count": 36,
      "outputs": []
    },
    {
      "cell_type": "code",
      "metadata": {
        "id": "-A3-vZC52SIG",
        "colab_type": "code",
        "colab": {
          "base_uri": "https://localhost:8080/",
          "height": 35
        },
        "outputId": "a2d854ca-2998-4261-dabd-25cd18b8f0d8"
      },
      "source": [
        "nb_pred(\"what time is early check-in\")\n"
      ],
      "execution_count": 37,
      "outputs": [
        {
          "output_type": "execute_result",
          "data": {
            "application/vnd.google.colaboratory.intrinsic+json": {
              "type": "string"
            },
            "text/plain": [
              "'For early check-out or late check-in please schedule beforehand'"
            ]
          },
          "metadata": {
            "tags": []
          },
          "execution_count": 37
        }
      ]
    },
    {
      "cell_type": "code",
      "metadata": {
        "id": "_gmRz9pm2URb",
        "colab_type": "code",
        "colab": {
          "base_uri": "https://localhost:8080/",
          "height": 35
        },
        "outputId": "24f3ffde-4f99-4b37-d7f6-39db814df866"
      },
      "source": [
        "nb_pred(\"hey I want to know what time is early check-in\")"
      ],
      "execution_count": 38,
      "outputs": [
        {
          "output_type": "execute_result",
          "data": {
            "application/vnd.google.colaboratory.intrinsic+json": {
              "type": "string"
            },
            "text/plain": [
              "'For early check-out or late check-in please schedule beforehand'"
            ]
          },
          "metadata": {
            "tags": []
          },
          "execution_count": 38
        }
      ]
    },
    {
      "cell_type": "code",
      "metadata": {
        "id": "58qFL5DT2X_I",
        "colab_type": "code",
        "colab": {
          "base_uri": "https://localhost:8080/",
          "height": 35
        },
        "outputId": "7868b7a5-c2f6-4873-ee72-079d515e3c73"
      },
      "source": [
        "nb_pred(\"early check-in time\")"
      ],
      "execution_count": 39,
      "outputs": [
        {
          "output_type": "execute_result",
          "data": {
            "application/vnd.google.colaboratory.intrinsic+json": {
              "type": "string"
            },
            "text/plain": [
              "'For early check-out or late check-in please schedule beforehand'"
            ]
          },
          "metadata": {
            "tags": []
          },
          "execution_count": 39
        }
      ]
    },
    {
      "cell_type": "code",
      "metadata": {
        "id": "2Lg63WtB2ciO",
        "colab_type": "code",
        "colab": {}
      },
      "source": [
        "import numpy as np\n"
      ],
      "execution_count": 40,
      "outputs": []
    },
    {
      "cell_type": "code",
      "metadata": {
        "id": "h6FGQAXb2hGq",
        "colab_type": "code",
        "colab": {}
      },
      "source": [
        "def nb_pred_top3(query):\n",
        "    tokenized_query = tokenize_nd_join(query)\n",
        "    pred_prob = nb_model.predict_proba([tokenized_query])\n",
        "    preds_sorted = np.argsort(pred_prob)\n",
        "    top3 = preds_sorted[:,-1],preds_sorted[:,-2],preds_sorted[:,-2]\n",
        "    if pred_prob[0,top3[0]] > (pred_prob[0,top3[1]] + pred_prob[0,top3[2]]):\n",
        "        pred = nb_model.named_steps['clf'].classes_[top3[0]][0]\n",
        "        return chatbot_data.get_answer(pred)\n",
        "    return UNK"
      ],
      "execution_count": 41,
      "outputs": []
    },
    {
      "cell_type": "code",
      "metadata": {
        "id": "DR7F3x-D2ijz",
        "colab_type": "code",
        "colab": {
          "base_uri": "https://localhost:8080/",
          "height": 35
        },
        "outputId": "2e45cd4b-00f0-4baa-8d14-6bd0fa01939c"
      },
      "source": [
        "nb_pred_top3(\"hey I want to know about early check-in time\")"
      ],
      "execution_count": 42,
      "outputs": [
        {
          "output_type": "execute_result",
          "data": {
            "application/vnd.google.colaboratory.intrinsic+json": {
              "type": "string"
            },
            "text/plain": [
              "'For early check-out or late check-in please schedule beforehand'"
            ]
          },
          "metadata": {
            "tags": []
          },
          "execution_count": 42
        }
      ]
    },
    {
      "cell_type": "markdown",
      "metadata": {
        "id": "uzN48iFS3Dkj",
        "colab_type": "text"
      },
      "source": [
        "### Intent Classification Pipeline¶\n"
      ]
    },
    {
      "cell_type": "code",
      "metadata": {
        "id": "8OJctDyg2kW4",
        "colab_type": "code",
        "colab": {}
      },
      "source": [
        "def get_pred(query):\n",
        "    query = query.lower()\n",
        "    pred = exact_match(query)\n",
        "    if pred == UNK: pred = exact_match(preprocess(query))\n",
        "    if pred == UNK: pred = nb_pred_top3(query)\n",
        "    if pred == UNK: pred = nb_pred_top3(preprocess(query))\n",
        "    if pred == UNK: pred = fuzzy_matching(query)\n",
        "    if pred == UNK: pred = fuzzy_matching(preprocess(query))\n",
        "    return pred\n"
      ],
      "execution_count": 43,
      "outputs": []
    },
    {
      "cell_type": "code",
      "metadata": {
        "id": "n6E5jAEs3HxE",
        "colab_type": "code",
        "colab": {
          "base_uri": "https://localhost:8080/",
          "height": 35
        },
        "outputId": "b782a6e7-3dcc-4958-c1d3-a3c6e5593941"
      },
      "source": [
        "get_pred(\"when is check-in\")"
      ],
      "execution_count": 44,
      "outputs": [
        {
          "output_type": "execute_result",
          "data": {
            "application/vnd.google.colaboratory.intrinsic+json": {
              "type": "string"
            },
            "text/plain": [
              "'Check in is at 3pm!'"
            ]
          },
          "metadata": {
            "tags": []
          },
          "execution_count": 44
        }
      ]
    },
    {
      "cell_type": "code",
      "metadata": {
        "id": "UjOOXXfU3KMT",
        "colab_type": "code",
        "colab": {
          "base_uri": "https://localhost:8080/",
          "height": 35
        },
        "outputId": "69e37fb0-6e06-40f2-896d-4cfc84021143"
      },
      "source": [
        "get_pred(\"where can i find the front desk?\")\n"
      ],
      "execution_count": 45,
      "outputs": [
        {
          "output_type": "execute_result",
          "data": {
            "application/vnd.google.colaboratory.intrinsic+json": {
              "type": "string"
            },
            "text/plain": [
              "'Front desk is located on the 2nd floor'"
            ]
          },
          "metadata": {
            "tags": []
          },
          "execution_count": 45
        }
      ]
    },
    {
      "cell_type": "markdown",
      "metadata": {
        "id": "eieLqar43j7P",
        "colab_type": "text"
      },
      "source": [
        "#### Moving ML to DL\n",
        "We see that this pipeline using some rules and a probabilistic model are working quite well. However, it doesn't scale with data and requires adding a lot of preprocessing and nuances to get working properly\n",
        "\n",
        "- Pros:\n",
        "\n",
        "There are noticeable improvements in using NNs over the current probabilistic model. Model can scale with data i.e it can improve as we add more annotated training data\n",
        "This can be a good point to move to NNs, since we are reaching the limits of rule based systems e.g fewer engineered features \n",
        "\n",
        "- Cons:\n",
        "\n",
        "Huge gains cannot be seen until the data is cleaned. In its current state, the model will either be the same or slightly better than the current approach.\n",
        "\n",
        "### Classification with DistilBert"
      ]
    },
    {
      "cell_type": "code",
      "metadata": {
        "id": "MJ7p93Fc3RBE",
        "colab_type": "code",
        "colab": {}
      },
      "source": [
        "from fastai import *\n",
        "from fastai.text import *\n"
      ],
      "execution_count": 46,
      "outputs": []
    },
    {
      "cell_type": "code",
      "metadata": {
        "id": "IWqk7eHi3ix0",
        "colab_type": "code",
        "colab": {}
      },
      "source": [
        "answers = {\n",
        "    'hotel.when_is_check_in': 'Check in is at 3pm!',\n",
        "    'hotel.when_is_check_out': 'Check out is at 10am!',\n",
        "    'hotel.is_there_late_check_out': 'For early check-out or late check-in please schedule beforehand',\n",
        "    'hotel.is_there_early_check_in': 'For early check-out or late check-in please schedule beforehand',\n",
        "    'hotel.where_is_the_front_desk_located': 'Front desk is located on the 2nd floor'\n",
        "    }\n"
      ],
      "execution_count": 47,
      "outputs": []
    },
    {
      "cell_type": "code",
      "metadata": {
        "id": "FDutaGtG3pnv",
        "colab_type": "code",
        "colab": {}
      },
      "source": [
        "class MyChatbotData:\n",
        "    \n",
        "    def __init__(self, json_obj, text_fld, answers):\n",
        "        dfs = []\n",
        "        for i, (intent, data) in enumerate(json_obj.items()):\n",
        "            # lowercase and remove punctuation\n",
        "            patterns = data[text_fld].copy()\n",
        "            for i, p in enumerate(patterns):\n",
        "                p = p.lower()\n",
        "                p = self.remove_punctuation(p)\n",
        "                patterns[i] = p\n",
        "                answer = answers[intent]\n",
        "            df = pd.DataFrame(list(zip([intent]*len(patterns), patterns, [answer]*len(patterns))), \\\n",
        "                              columns=['intent', 'phrase', 'answer'])\n",
        "            dfs.append(df)\n",
        "        self.df = pd.concat(dfs)\n",
        "    \n",
        "    def get_answer(self, intent):\n",
        "        return pd.unique(self.df[self.df['intent'] == intent]['answer'])[0]\n",
        "    \n",
        "    def remove_punctuation(self, text):\n",
        "        return punct_re_escape.sub('', text)\n",
        "    \n",
        "    def get_phrases(self, intent):\n",
        "        return list(self.df[self.df['intent'] == intent]['phrase'])\n",
        "    \n",
        "    def get_intents(self):\n",
        "        return list(pd.unique(self.df['intent']))\n",
        "    \n",
        "    def show_batch(self, size=5):\n",
        "        return self.df.head(size)\n",
        "    \n",
        "    def __len__(self):\n",
        "        return len(self.df)"
      ],
      "execution_count": 48,
      "outputs": []
    },
    {
      "cell_type": "code",
      "metadata": {
        "id": "g9SuNkba3stR",
        "colab_type": "code",
        "colab": {}
      },
      "source": [
        "training_data = json.load(open('./training_sample.json','r'))\n"
      ],
      "execution_count": 49,
      "outputs": []
    },
    {
      "cell_type": "code",
      "metadata": {
        "id": "HWFghIoW3xBr",
        "colab_type": "code",
        "colab": {
          "base_uri": "https://localhost:8080/",
          "height": 102
        },
        "outputId": "d2fd3f72-e15c-418e-da07-d3393f19acd3"
      },
      "source": [
        "list(training_data.keys())\n"
      ],
      "execution_count": 50,
      "outputs": [
        {
          "output_type": "execute_result",
          "data": {
            "text/plain": [
              "['hotel.when_is_check_in',\n",
              " 'hotel.when_is_check_out',\n",
              " 'hotel.is_there_early_check_in',\n",
              " 'hotel.is_there_late_check_out',\n",
              " 'hotel.where_is_the_front_desk_located']"
            ]
          },
          "metadata": {
            "tags": []
          },
          "execution_count": 50
        }
      ]
    },
    {
      "cell_type": "code",
      "metadata": {
        "id": "aMEFcEGO3yd9",
        "colab_type": "code",
        "colab": {}
      },
      "source": [
        "chatbot_data = MyChatbotData(training_data, 'patterns', answers)"
      ],
      "execution_count": 51,
      "outputs": []
    },
    {
      "cell_type": "code",
      "metadata": {
        "id": "K-jkYVmU30ns",
        "colab_type": "code",
        "colab": {
          "base_uri": "https://localhost:8080/",
          "height": 204
        },
        "outputId": "e934b882-21fa-4952-bb41-fd14125a4904"
      },
      "source": [
        "df = chatbot_data.df\n",
        "df.head()"
      ],
      "execution_count": 52,
      "outputs": [
        {
          "output_type": "execute_result",
          "data": {
            "text/html": [
              "<div>\n",
              "<style scoped>\n",
              "    .dataframe tbody tr th:only-of-type {\n",
              "        vertical-align: middle;\n",
              "    }\n",
              "\n",
              "    .dataframe tbody tr th {\n",
              "        vertical-align: top;\n",
              "    }\n",
              "\n",
              "    .dataframe thead th {\n",
              "        text-align: right;\n",
              "    }\n",
              "</style>\n",
              "<table border=\"1\" class=\"dataframe\">\n",
              "  <thead>\n",
              "    <tr style=\"text-align: right;\">\n",
              "      <th></th>\n",
              "      <th>intent</th>\n",
              "      <th>phrase</th>\n",
              "      <th>answer</th>\n",
              "    </tr>\n",
              "  </thead>\n",
              "  <tbody>\n",
              "    <tr>\n",
              "      <th>0</th>\n",
              "      <td>hotel.when_is_check_in</td>\n",
              "      <td>when is check-in</td>\n",
              "      <td>Check in is at 3pm!</td>\n",
              "    </tr>\n",
              "    <tr>\n",
              "      <th>1</th>\n",
              "      <td>hotel.when_is_check_in</td>\n",
              "      <td>how to check in</td>\n",
              "      <td>Check in is at 3pm!</td>\n",
              "    </tr>\n",
              "    <tr>\n",
              "      <th>2</th>\n",
              "      <td>hotel.when_is_check_in</td>\n",
              "      <td>what time is the latest we can check into the ...</td>\n",
              "      <td>Check in is at 3pm!</td>\n",
              "    </tr>\n",
              "    <tr>\n",
              "      <th>3</th>\n",
              "      <td>hotel.when_is_check_in</td>\n",
              "      <td>what time is check in open till</td>\n",
              "      <td>Check in is at 3pm!</td>\n",
              "    </tr>\n",
              "    <tr>\n",
              "      <th>4</th>\n",
              "      <td>hotel.when_is_check_in</td>\n",
              "      <td>can you advise the check in time</td>\n",
              "      <td>Check in is at 3pm!</td>\n",
              "    </tr>\n",
              "  </tbody>\n",
              "</table>\n",
              "</div>"
            ],
            "text/plain": [
              "                   intent  ...               answer\n",
              "0  hotel.when_is_check_in  ...  Check in is at 3pm!\n",
              "1  hotel.when_is_check_in  ...  Check in is at 3pm!\n",
              "2  hotel.when_is_check_in  ...  Check in is at 3pm!\n",
              "3  hotel.when_is_check_in  ...  Check in is at 3pm!\n",
              "4  hotel.when_is_check_in  ...  Check in is at 3pm!\n",
              "\n",
              "[5 rows x 3 columns]"
            ]
          },
          "metadata": {
            "tags": []
          },
          "execution_count": 52
        }
      ]
    },
    {
      "cell_type": "code",
      "metadata": {
        "id": "-UTgEnKS35T-",
        "colab_type": "code",
        "colab": {
          "base_uri": "https://localhost:8080/",
          "height": 34
        },
        "outputId": "a0752e92-16b0-499b-9ab7-bcb4a95abfbc"
      },
      "source": [
        "len(set(df['intent'])), len(df)\n"
      ],
      "execution_count": 53,
      "outputs": [
        {
          "output_type": "execute_result",
          "data": {
            "text/plain": [
              "(5, 368)"
            ]
          },
          "metadata": {
            "tags": []
          },
          "execution_count": 53
        }
      ]
    },
    {
      "cell_type": "code",
      "metadata": {
        "id": "6QnQ92Tr5szB",
        "colab_type": "code",
        "colab": {}
      },
      "source": [
        "path = Path('./')\n"
      ],
      "execution_count": 54,
      "outputs": []
    },
    {
      "cell_type": "code",
      "metadata": {
        "id": "Agi4ESTr6Gl4",
        "colab_type": "code",
        "colab": {}
      },
      "source": [
        "from transformers import DistilBertForSequenceClassification, DistilBertTokenizer, DistilBertConfig\n",
        "from transformers import PreTrainedTokenizer\n"
      ],
      "execution_count": 55,
      "outputs": []
    },
    {
      "cell_type": "code",
      "metadata": {
        "id": "vjKeGW6i6Ihy",
        "colab_type": "code",
        "colab": {}
      },
      "source": [
        "class TransformersBaseTokenizer(BaseTokenizer):\n",
        "    def __init__(self, pretrained_tokenizer: PreTrainedTokenizer, model_type = 'bert', **kwargs):\n",
        "        self._pretrained_tokenizer = pretrained_tokenizer\n",
        "        self.max_seq_len = pretrained_tokenizer.max_len\n",
        "        self.model_type = model_type\n",
        "\n",
        "    def __call__(self, *args, **kwargs): \n",
        "        return self\n",
        "\n",
        "    def tokenizer(self, t:str) -> List[str]:\n",
        "        CLS = self._pretrained_tokenizer.cls_token\n",
        "        SEP = self._pretrained_tokenizer.sep_token\n",
        "        tokens = [CLS] + self._pretrained_tokenizer.tokenize(t)[:self.max_seq_len - 2] + [SEP]\n",
        "        return tokens"
      ],
      "execution_count": 56,
      "outputs": []
    },
    {
      "cell_type": "code",
      "metadata": {
        "id": "ZetdZaGV6KkN",
        "colab_type": "code",
        "colab": {}
      },
      "source": [
        "transformer_tokenizer = DistilBertTokenizer.from_pretrained('distilbert-base-uncased')\n",
        "transformer_base_tokenizer = TransformersBaseTokenizer(pretrained_tokenizer = transformer_tokenizer, model_type = model_type)\n",
        "fastai_tokenizer = Tokenizer(tok_func = transformer_base_tokenizer, pre_rules=[], post_rules=[])\n"
      ],
      "execution_count": 57,
      "outputs": []
    },
    {
      "cell_type": "code",
      "metadata": {
        "id": "aSudAiIA6MV9",
        "colab_type": "code",
        "colab": {}
      },
      "source": [
        "class TransformersVocab(Vocab):\n",
        "    def __init__(self, tokenizer: PreTrainedTokenizer):\n",
        "        super(TransformersVocab, self).__init__(itos = [])\n",
        "        self.tokenizer = tokenizer\n",
        "    \n",
        "    def numericalize(self, t:Collection[str]) -> List[int]:\n",
        "        \"Convert a list of tokens `t` to their ids.\"\n",
        "        return self.tokenizer.convert_tokens_to_ids(t)\n",
        "\n",
        "    def textify(self, nums:Collection[int], sep=' ') -> List[str]:\n",
        "        \"Convert a list of `nums` to their tokens.\"\n",
        "        nums = np.array(nums).tolist()\n",
        "        return sep.join(self.tokenizer.convert_ids_to_tokens(nums)) if sep is not None else self.tokenizer.convert_ids_to_tokens(nums)\n",
        "        \n",
        "    def __getstate__(self):\n",
        "        return {'itos':self.itos, 'tokenizer':self.tokenizer}\n",
        "\n",
        "    def __setstate__(self, state:dict):\n",
        "        self.itos = state['itos']\n",
        "        self.tokenizer = state['tokenizer']\n",
        "        self.stoi = collections.defaultdict(int,{v:k for k,v in enumerate(self.itos)})\n"
      ],
      "execution_count": 58,
      "outputs": []
    },
    {
      "cell_type": "code",
      "metadata": {
        "id": "ttK_NgSM7ShG",
        "colab_type": "code",
        "colab": {}
      },
      "source": [
        "transformer_vocab =  TransformersVocab(tokenizer = transformer_tokenizer)\n",
        "numericalize_processor = NumericalizeProcessor(vocab=transformer_vocab)\n",
        "\n",
        "tokenize_processor = TokenizeProcessor(tokenizer=fastai_tokenizer, \n",
        "                                       include_bos=False, \n",
        "                                       include_eos=False)\n",
        "\n",
        "transformer_processor = [tokenize_processor, numericalize_processor]\n"
      ],
      "execution_count": 59,
      "outputs": []
    },
    {
      "cell_type": "code",
      "metadata": {
        "id": "FDaPkMY-7ULE",
        "colab_type": "code",
        "colab": {
          "base_uri": "https://localhost:8080/",
          "height": 17
        },
        "outputId": "5ae1af8e-64fa-4a49-e72a-7f5fc852a91b"
      },
      "source": [
        "pad_idx = transformer_tokenizer.pad_token_id\n",
        "\n",
        "databunch = (TextList.from_df(df, cols='phrase', processor=transformer_processor)\n",
        "             .split_by_rand_pct()\n",
        "             .label_from_df(cols= 'intent')\n",
        "             .databunch(bs=64, pad_first=False, pad_idx=pad_idx))"
      ],
      "execution_count": 60,
      "outputs": [
        {
          "output_type": "display_data",
          "data": {
            "text/html": [
              ""
            ],
            "text/plain": [
              "<IPython.core.display.HTML object>"
            ]
          },
          "metadata": {
            "tags": []
          }
        },
        {
          "output_type": "display_data",
          "data": {
            "text/html": [
              ""
            ],
            "text/plain": [
              "<IPython.core.display.HTML object>"
            ]
          },
          "metadata": {
            "tags": []
          }
        }
      ]
    },
    {
      "cell_type": "code",
      "metadata": {
        "id": "-D5NkSWh7WsD",
        "colab_type": "code",
        "colab": {}
      },
      "source": [
        "class TransformerModel(nn.Module):\n",
        "  \n",
        "    def __init__(self, transformer):\n",
        "        super(TransformerModel,self).__init__()\n",
        "        self.transformer = transformer\n",
        "        \n",
        "    def forward(self, input_ids):\n",
        "        # Return only the logits from the transfomer\n",
        "        logits = self.transformer(input_ids)[0]   \n",
        "        return logits"
      ],
      "execution_count": 61,
      "outputs": []
    },
    {
      "cell_type": "code",
      "metadata": {
        "id": "eCJifDfP7YmQ",
        "colab_type": "code",
        "colab": {}
      },
      "source": [
        "config = DistilBertConfig.from_pretrained('distilbert-base-uncased')\n",
        "config.num_labels = databunch.train_ds.c\n",
        "\n",
        "distil_bert = DistilBertForSequenceClassification.from_pretrained('distilbert-base-uncased', config=config)\n",
        "transformer_model = TransformerModel(distil_bert)\n"
      ],
      "execution_count": 62,
      "outputs": []
    },
    {
      "cell_type": "code",
      "metadata": {
        "id": "eyfSSGml7a5a",
        "colab_type": "code",
        "colab": {}
      },
      "source": [
        "from transformers import AdamW\n",
        "from functools import partial\n",
        "\n",
        "CustomAdamW = partial(AdamW, correct_bias=False)\n",
        "\n",
        "learn = Learner(databunch, transformer_model, opt_func = CustomAdamW, metrics=[accuracy])"
      ],
      "execution_count": 63,
      "outputs": []
    },
    {
      "cell_type": "code",
      "metadata": {
        "id": "XmG4zHII7dSu",
        "colab_type": "code",
        "colab": {}
      },
      "source": [
        "list_layers = [learn.model.transformer.base_model.embeddings,\n",
        "               learn.model.transformer.base_model.transformer.layer[0],\n",
        "               learn.model.transformer.base_model.transformer.layer[1],\n",
        "               learn.model.transformer.base_model.transformer.layer[2],\n",
        "               learn.model.transformer.base_model.transformer.layer[3],\n",
        "               learn.model.transformer.base_model.transformer.layer[4],\n",
        "               learn.model.transformer.base_model.transformer.layer[5],\n",
        "               learn.model.transformer.pre_classifier,\n",
        "               learn.model.transformer.classifier]\n",
        "               \n",
        "learn.split(list_layers);"
      ],
      "execution_count": 64,
      "outputs": []
    },
    {
      "cell_type": "code",
      "metadata": {
        "id": "5aCZklgu7fHk",
        "colab_type": "code",
        "colab": {}
      },
      "source": [
        "learn.freeze_to(-2)\n"
      ],
      "execution_count": 65,
      "outputs": []
    },
    {
      "cell_type": "code",
      "metadata": {
        "id": "Vf7gGvfS7htv",
        "colab_type": "code",
        "colab": {
          "base_uri": "https://localhost:8080/",
          "height": 1000
        },
        "outputId": "b99e0cb9-06be-4104-c8d6-cb33909949f0"
      },
      "source": [
        "learn.lr_find()\n",
        "learn.recorder.plot(skip_end=15)\n"
      ],
      "execution_count": 66,
      "outputs": [
        {
          "output_type": "display_data",
          "data": {
            "text/html": [
              "\n",
              "    <div>\n",
              "        <style>\n",
              "            /* Turns off some styling */\n",
              "            progress {\n",
              "                /* gets rid of default border in Firefox and Opera. */\n",
              "                border: none;\n",
              "                /* Needs to be in here for Safari polyfill so background images work as expected. */\n",
              "                background-size: auto;\n",
              "            }\n",
              "            .progress-bar-interrupted, .progress-bar-interrupted::-webkit-progress-bar {\n",
              "                background: #F44336;\n",
              "            }\n",
              "        </style>\n",
              "      <progress value='24' class='' max='25' style='width:300px; height:20px; vertical-align: middle;'></progress>\n",
              "      96.00% [24/25 01:58<00:04]\n",
              "    </div>\n",
              "    \n",
              "<table border=\"1\" class=\"dataframe\">\n",
              "  <thead>\n",
              "    <tr style=\"text-align: left;\">\n",
              "      <th>epoch</th>\n",
              "      <th>train_loss</th>\n",
              "      <th>valid_loss</th>\n",
              "      <th>accuracy</th>\n",
              "      <th>time</th>\n",
              "    </tr>\n",
              "  </thead>\n",
              "  <tbody>\n",
              "    <tr>\n",
              "      <td>0</td>\n",
              "      <td>1.615925</td>\n",
              "      <td>#na#</td>\n",
              "      <td>00:04</td>\n",
              "    </tr>\n",
              "    <tr>\n",
              "      <td>1</td>\n",
              "      <td>1.618733</td>\n",
              "      <td>#na#</td>\n",
              "      <td>00:04</td>\n",
              "    </tr>\n",
              "    <tr>\n",
              "      <td>2</td>\n",
              "      <td>1.618394</td>\n",
              "      <td>#na#</td>\n",
              "      <td>00:04</td>\n",
              "    </tr>\n",
              "    <tr>\n",
              "      <td>3</td>\n",
              "      <td>1.617641</td>\n",
              "      <td>#na#</td>\n",
              "      <td>00:04</td>\n",
              "    </tr>\n",
              "    <tr>\n",
              "      <td>4</td>\n",
              "      <td>1.616721</td>\n",
              "      <td>#na#</td>\n",
              "      <td>00:04</td>\n",
              "    </tr>\n",
              "    <tr>\n",
              "      <td>5</td>\n",
              "      <td>1.614626</td>\n",
              "      <td>#na#</td>\n",
              "      <td>00:04</td>\n",
              "    </tr>\n",
              "    <tr>\n",
              "      <td>6</td>\n",
              "      <td>1.612765</td>\n",
              "      <td>#na#</td>\n",
              "      <td>00:04</td>\n",
              "    </tr>\n",
              "    <tr>\n",
              "      <td>7</td>\n",
              "      <td>1.605495</td>\n",
              "      <td>#na#</td>\n",
              "      <td>00:04</td>\n",
              "    </tr>\n",
              "    <tr>\n",
              "      <td>8</td>\n",
              "      <td>1.600570</td>\n",
              "      <td>#na#</td>\n",
              "      <td>00:04</td>\n",
              "    </tr>\n",
              "    <tr>\n",
              "      <td>9</td>\n",
              "      <td>1.594459</td>\n",
              "      <td>#na#</td>\n",
              "      <td>00:04</td>\n",
              "    </tr>\n",
              "    <tr>\n",
              "      <td>10</td>\n",
              "      <td>1.579788</td>\n",
              "      <td>#na#</td>\n",
              "      <td>00:04</td>\n",
              "    </tr>\n",
              "    <tr>\n",
              "      <td>11</td>\n",
              "      <td>1.553132</td>\n",
              "      <td>#na#</td>\n",
              "      <td>00:04</td>\n",
              "    </tr>\n",
              "    <tr>\n",
              "      <td>12</td>\n",
              "      <td>1.503758</td>\n",
              "      <td>#na#</td>\n",
              "      <td>00:04</td>\n",
              "    </tr>\n",
              "    <tr>\n",
              "      <td>13</td>\n",
              "      <td>1.462265</td>\n",
              "      <td>#na#</td>\n",
              "      <td>00:04</td>\n",
              "    </tr>\n",
              "    <tr>\n",
              "      <td>14</td>\n",
              "      <td>1.468915</td>\n",
              "      <td>#na#</td>\n",
              "      <td>00:04</td>\n",
              "    </tr>\n",
              "    <tr>\n",
              "      <td>15</td>\n",
              "      <td>1.612636</td>\n",
              "      <td>#na#</td>\n",
              "      <td>00:04</td>\n",
              "    </tr>\n",
              "    <tr>\n",
              "      <td>16</td>\n",
              "      <td>2.649835</td>\n",
              "      <td>#na#</td>\n",
              "      <td>00:04</td>\n",
              "    </tr>\n",
              "    <tr>\n",
              "      <td>17</td>\n",
              "      <td>4.920465</td>\n",
              "      <td>#na#</td>\n",
              "      <td>00:05</td>\n",
              "    </tr>\n",
              "    <tr>\n",
              "      <td>18</td>\n",
              "      <td>5.340639</td>\n",
              "      <td>#na#</td>\n",
              "      <td>00:07</td>\n",
              "    </tr>\n",
              "    <tr>\n",
              "      <td>19</td>\n",
              "      <td>5.164069</td>\n",
              "      <td>#na#</td>\n",
              "      <td>00:04</td>\n",
              "    </tr>\n",
              "    <tr>\n",
              "      <td>20</td>\n",
              "      <td>4.843086</td>\n",
              "      <td>#na#</td>\n",
              "      <td>00:04</td>\n",
              "    </tr>\n",
              "    <tr>\n",
              "      <td>21</td>\n",
              "      <td>4.822675</td>\n",
              "      <td>#na#</td>\n",
              "      <td>00:04</td>\n",
              "    </tr>\n",
              "    <tr>\n",
              "      <td>22</td>\n",
              "      <td>4.565945</td>\n",
              "      <td>#na#</td>\n",
              "      <td>00:04</td>\n",
              "    </tr>\n",
              "    <tr>\n",
              "      <td>23</td>\n",
              "      <td>4.892686</td>\n",
              "      <td>#na#</td>\n",
              "      <td>00:04</td>\n",
              "    </tr>\n",
              "  </tbody>\n",
              "</table><p>\n",
              "\n",
              "    <div>\n",
              "        <style>\n",
              "            /* Turns off some styling */\n",
              "            progress {\n",
              "                /* gets rid of default border in Firefox and Opera. */\n",
              "                border: none;\n",
              "                /* Needs to be in here for Safari polyfill so background images work as expected. */\n",
              "                background-size: auto;\n",
              "            }\n",
              "            .progress-bar-interrupted, .progress-bar-interrupted::-webkit-progress-bar {\n",
              "                background: #F44336;\n",
              "            }\n",
              "        </style>\n",
              "      <progress value='1' class='' max='4' style='width:300px; height:20px; vertical-align: middle;'></progress>\n",
              "      25.00% [1/4 00:01<00:05 4.8678]\n",
              "    </div>\n",
              "    "
            ],
            "text/plain": [
              "<IPython.core.display.HTML object>"
            ]
          },
          "metadata": {
            "tags": []
          }
        },
        {
          "output_type": "stream",
          "text": [
            "LR Finder is complete, type {learner_name}.recorder.plot() to see the graph.\n"
          ],
          "name": "stdout"
        },
        {
          "output_type": "display_data",
          "data": {
            "image/png": "[encoded data removed]",
            "text/plain": [
              "<Figure size 432x288 with 1 Axes>"
            ]
          },
          "metadata": {
            "tags": [],
            "needs_background": "light"
          }
        }
      ]
    },
    {
      "cell_type": "code",
      "metadata": {
        "id": "fW3o1pKr7kBp",
        "colab_type": "code",
        "colab": {
          "base_uri": "https://localhost:8080/",
          "height": 142
        },
        "outputId": "0b3bcf43-d00d-48f5-e18b-e24260d7262e"
      },
      "source": [
        "learn.fit_one_cycle(3,max_lr=1e-3,moms=(0.8,0.7))\n"
      ],
      "execution_count": 67,
      "outputs": [
        {
          "output_type": "display_data",
          "data": {
            "text/html": [
              "<table border=\"1\" class=\"dataframe\">\n",
              "  <thead>\n",
              "    <tr style=\"text-align: left;\">\n",
              "      <th>epoch</th>\n",
              "      <th>train_loss</th>\n",
              "      <th>valid_loss</th>\n",
              "      <th>accuracy</th>\n",
              "      <th>time</th>\n",
              "    </tr>\n",
              "  </thead>\n",
              "  <tbody>\n",
              "    <tr>\n",
              "      <td>0</td>\n",
              "      <td>1.820978</td>\n",
              "      <td>1.801066</td>\n",
              "      <td>0.178082</td>\n",
              "      <td>00:06</td>\n",
              "    </tr>\n",
              "    <tr>\n",
              "      <td>1</td>\n",
              "      <td>1.727357</td>\n",
              "      <td>1.424789</td>\n",
              "      <td>0.410959</td>\n",
              "      <td>00:06</td>\n",
              "    </tr>\n",
              "    <tr>\n",
              "      <td>2</td>\n",
              "      <td>1.617617</td>\n",
              "      <td>1.390422</td>\n",
              "      <td>0.534247</td>\n",
              "      <td>00:06</td>\n",
              "    </tr>\n",
              "  </tbody>\n",
              "</table>"
            ],
            "text/plain": [
              "<IPython.core.display.HTML object>"
            ]
          },
          "metadata": {
            "tags": []
          }
        }
      ]
    },
    {
      "cell_type": "code",
      "metadata": {
        "id": "UeI5xSrK8SyC",
        "colab_type": "code",
        "colab": {
          "base_uri": "https://localhost:8080/",
          "height": 111
        },
        "outputId": "8ca7dd2d-e1db-4752-a297-836e0c2cfcd9"
      },
      "source": [
        "learn.freeze_to(-3)\n",
        "learn.fit_one_cycle(2, slice(8e-4/(2.6**4),8e-4), moms=(0.8,0.7))\n"
      ],
      "execution_count": 68,
      "outputs": [
        {
          "output_type": "display_data",
          "data": {
            "text/html": [
              "<table border=\"1\" class=\"dataframe\">\n",
              "  <thead>\n",
              "    <tr style=\"text-align: left;\">\n",
              "      <th>epoch</th>\n",
              "      <th>train_loss</th>\n",
              "      <th>valid_loss</th>\n",
              "      <th>accuracy</th>\n",
              "      <th>time</th>\n",
              "    </tr>\n",
              "  </thead>\n",
              "  <tbody>\n",
              "    <tr>\n",
              "      <td>0</td>\n",
              "      <td>2.665271</td>\n",
              "      <td>1.807662</td>\n",
              "      <td>0.561644</td>\n",
              "      <td>00:07</td>\n",
              "    </tr>\n",
              "    <tr>\n",
              "      <td>1</td>\n",
              "      <td>2.063024</td>\n",
              "      <td>0.875780</td>\n",
              "      <td>0.698630</td>\n",
              "      <td>00:08</td>\n",
              "    </tr>\n",
              "  </tbody>\n",
              "</table>"
            ],
            "text/plain": [
              "<IPython.core.display.HTML object>"
            ]
          },
          "metadata": {
            "tags": []
          }
        }
      ]
    },
    {
      "cell_type": "code",
      "metadata": {
        "id": "JbsN0nA8-gB2",
        "colab_type": "code",
        "colab": {
          "base_uri": "https://localhost:8080/",
          "height": 111
        },
        "outputId": "b98af776-98e9-4670-af40-c6af48dec2c2"
      },
      "source": [
        "learn.freeze_to(-5)\n",
        "learn.fit_one_cycle(2, slice(5e-4/(2.6**4),5e-4), moms=(0.8,0.7))\n"
      ],
      "execution_count": 69,
      "outputs": [
        {
          "output_type": "display_data",
          "data": {
            "text/html": [
              "<table border=\"1\" class=\"dataframe\">\n",
              "  <thead>\n",
              "    <tr style=\"text-align: left;\">\n",
              "      <th>epoch</th>\n",
              "      <th>train_loss</th>\n",
              "      <th>valid_loss</th>\n",
              "      <th>accuracy</th>\n",
              "      <th>time</th>\n",
              "    </tr>\n",
              "  </thead>\n",
              "  <tbody>\n",
              "    <tr>\n",
              "      <td>0</td>\n",
              "      <td>4.013246</td>\n",
              "      <td>1.667955</td>\n",
              "      <td>0.178082</td>\n",
              "      <td>00:11</td>\n",
              "    </tr>\n",
              "    <tr>\n",
              "      <td>1</td>\n",
              "      <td>2.792480</td>\n",
              "      <td>1.525039</td>\n",
              "      <td>0.342466</td>\n",
              "      <td>00:12</td>\n",
              "    </tr>\n",
              "  </tbody>\n",
              "</table>"
            ],
            "text/plain": [
              "<IPython.core.display.HTML object>"
            ]
          },
          "metadata": {
            "tags": []
          }
        }
      ]
    },
    {
      "cell_type": "code",
      "metadata": {
        "id": "RCgSx7Cm-lw3",
        "colab_type": "code",
        "colab": {
          "base_uri": "https://localhost:8080/",
          "height": 111
        },
        "outputId": "342283b7-cf45-49eb-d67b-b227ce5e2a19"
      },
      "source": [
        "learn.freeze_to(-8)\n",
        "learn.fit_one_cycle(2, slice(3e-4/(2.6**4),3e-4), moms=(0.8,0.7))\n"
      ],
      "execution_count": 70,
      "outputs": [
        {
          "output_type": "display_data",
          "data": {
            "text/html": [
              "<table border=\"1\" class=\"dataframe\">\n",
              "  <thead>\n",
              "    <tr style=\"text-align: left;\">\n",
              "      <th>epoch</th>\n",
              "      <th>train_loss</th>\n",
              "      <th>valid_loss</th>\n",
              "      <th>accuracy</th>\n",
              "      <th>time</th>\n",
              "    </tr>\n",
              "  </thead>\n",
              "  <tbody>\n",
              "    <tr>\n",
              "      <td>0</td>\n",
              "      <td>1.634950</td>\n",
              "      <td>2.581532</td>\n",
              "      <td>0.356164</td>\n",
              "      <td>00:16</td>\n",
              "    </tr>\n",
              "    <tr>\n",
              "      <td>1</td>\n",
              "      <td>1.637631</td>\n",
              "      <td>1.427630</td>\n",
              "      <td>0.479452</td>\n",
              "      <td>00:17</td>\n",
              "    </tr>\n",
              "  </tbody>\n",
              "</table>"
            ],
            "text/plain": [
              "<IPython.core.display.HTML object>"
            ]
          },
          "metadata": {
            "tags": []
          }
        }
      ]
    },
    {
      "cell_type": "code",
      "metadata": {
        "id": "-6xtqPyQ-n6p",
        "colab_type": "code",
        "colab": {
          "base_uri": "https://localhost:8080/",
          "height": 204
        },
        "outputId": "e37012ed-f4c4-4c00-dd8b-eca84c258012"
      },
      "source": [
        "learn.unfreeze()\n",
        "learn.fit_one_cycle(5, slice(1e-4/(2.6**4),1e-4), moms=(0.8,0.7))"
      ],
      "execution_count": 71,
      "outputs": [
        {
          "output_type": "display_data",
          "data": {
            "text/html": [
              "<table border=\"1\" class=\"dataframe\">\n",
              "  <thead>\n",
              "    <tr style=\"text-align: left;\">\n",
              "      <th>epoch</th>\n",
              "      <th>train_loss</th>\n",
              "      <th>valid_loss</th>\n",
              "      <th>accuracy</th>\n",
              "      <th>time</th>\n",
              "    </tr>\n",
              "  </thead>\n",
              "  <tbody>\n",
              "    <tr>\n",
              "      <td>0</td>\n",
              "      <td>1.364060</td>\n",
              "      <td>1.265836</td>\n",
              "      <td>0.493151</td>\n",
              "      <td>00:18</td>\n",
              "    </tr>\n",
              "    <tr>\n",
              "      <td>1</td>\n",
              "      <td>1.285199</td>\n",
              "      <td>1.000256</td>\n",
              "      <td>0.602740</td>\n",
              "      <td>00:19</td>\n",
              "    </tr>\n",
              "    <tr>\n",
              "      <td>2</td>\n",
              "      <td>1.196618</td>\n",
              "      <td>0.860942</td>\n",
              "      <td>0.657534</td>\n",
              "      <td>00:19</td>\n",
              "    </tr>\n",
              "    <tr>\n",
              "      <td>3</td>\n",
              "      <td>1.096579</td>\n",
              "      <td>0.745196</td>\n",
              "      <td>0.657534</td>\n",
              "      <td>00:19</td>\n",
              "    </tr>\n",
              "    <tr>\n",
              "      <td>4</td>\n",
              "      <td>1.025829</td>\n",
              "      <td>0.713188</td>\n",
              "      <td>0.657534</td>\n",
              "      <td>00:18</td>\n",
              "    </tr>\n",
              "  </tbody>\n",
              "</table>"
            ],
            "text/plain": [
              "<IPython.core.display.HTML object>"
            ]
          },
          "metadata": {
            "tags": []
          }
        }
      ]
    },
    {
      "cell_type": "code",
      "metadata": {
        "id": "CqkAdy2O-qKX",
        "colab_type": "code",
        "colab": {
          "base_uri": "https://localhost:8080/",
          "height": 153
        },
        "outputId": "e8256880-e22c-472d-f4da-df80fedf1345"
      },
      "source": [
        "learn.predict(\"what flights are available from pittsburgh to baltimore\")\n"
      ],
      "execution_count": 72,
      "outputs": [
        {
          "output_type": "stream",
          "text": [
            "/usr/local/lib/python3.6/dist-packages/fastai/text/data.py:339: UserWarning: This overload of nonzero is deprecated:\n",
            "\tnonzero()\n",
            "Consider using one of the following signatures instead:\n",
            "\tnonzero(*, bool as_tuple) (Triggered internally at  /pytorch/torch/csrc/utils/python_arg_parser.cpp:766.)\n",
            "  idx_min = (t != self.pad_idx).nonzero().min()\n"
          ],
          "name": "stderr"
        },
        {
          "output_type": "execute_result",
          "data": {
            "text/plain": [
              "(Category tensor(0),\n",
              " tensor(0),\n",
              " tensor([0.3998, 0.1760, 0.2234, 0.1136, 0.0872]))"
            ]
          },
          "metadata": {
            "tags": []
          },
          "execution_count": 72
        }
      ]
    },
    {
      "cell_type": "code",
      "metadata": {
        "id": "U3YK5HBo_O6x",
        "colab_type": "code",
        "colab": {
          "base_uri": "https://localhost:8080/",
          "height": 17
        },
        "outputId": "e23f8ca5-8135-471e-d743-3ba8dbb4d931"
      },
      "source": [
        "interp = TextClassificationInterpretation(learn,*learn.get_preds(with_loss=True))\n"
      ],
      "execution_count": 73,
      "outputs": [
        {
          "output_type": "display_data",
          "data": {
            "text/html": [
              ""
            ],
            "text/plain": [
              "<IPython.core.display.HTML object>"
            ]
          },
          "metadata": {
            "tags": []
          }
        }
      ]
    },
    {
      "cell_type": "code",
      "metadata": {
        "id": "V54zFoYN_i36",
        "colab_type": "code",
        "colab": {
          "base_uri": "https://localhost:8080/",
          "height": 311
        },
        "outputId": "acde6ff8-0029-46fe-cd77-6e2abe718da6"
      },
      "source": [
        "interp.plot_confusion_matrix()"
      ],
      "execution_count": 74,
      "outputs": [
        {
          "output_type": "display_data",
          "data": {
            "image/png": "[encoded data removed]",
            "text/plain": [
              "<Figure size 432x288 with 1 Axes>"
            ]
          },
          "metadata": {
            "tags": [],
            "needs_background": "light"
          }
        }
      ]
    },
    {
      "cell_type": "code",
      "metadata": {
        "id": "gM7UV-jG_Tjs",
        "colab_type": "code",
        "colab": {
          "base_uri": "https://localhost:8080/",
          "height": 669
        },
        "outputId": "6e359d4b-56c7-4ba4-a357-30bf0ca992e9"
      },
      "source": [
        "interp.show_top_losses(20)\n"
      ],
      "execution_count": 75,
      "outputs": [
        {
          "output_type": "display_data",
          "data": {
            "text/html": [
              "<table border=\"1\" class=\"dataframe\">\n",
              "  <thead>\n",
              "    <tr style=\"text-align: right;\">\n",
              "      <th>Text</th>\n",
              "      <th>Prediction</th>\n",
              "      <th>Actual</th>\n",
              "      <th>Loss</th>\n",
              "      <th>Probability</th>\n",
              "    </tr>\n",
              "  </thead>\n",
              "  <tbody>\n",
              "    <tr>\n",
              "      <td>[CLS] can i check ##in early [SEP]</td>\n",
              "      <td>hotel.is_there_late_check_out</td>\n",
              "      <td>hotel.is_there_early_check_in</td>\n",
              "      <td>3.12</td>\n",
              "      <td>0.17</td>\n",
              "    </tr>\n",
              "    <tr>\n",
              "      <td>[CLS] can i delay my check ##out [SEP]</td>\n",
              "      <td>hotel.is_there_early_check_in</td>\n",
              "      <td>hotel.is_there_late_check_out</td>\n",
              "      <td>2.50</td>\n",
              "      <td>0.20</td>\n",
              "    </tr>\n",
              "    <tr>\n",
              "      <td>[CLS] late check out [SEP]</td>\n",
              "      <td>hotel.is_there_early_check_in</td>\n",
              "      <td>hotel.is_there_late_check_out</td>\n",
              "      <td>2.35</td>\n",
              "      <td>0.17</td>\n",
              "    </tr>\n",
              "    <tr>\n",
              "      <td>[CLS] i want to check in [SEP]</td>\n",
              "      <td>hotel.is_there_early_check_in</td>\n",
              "      <td>hotel.where_is_the_front_desk_located</td>\n",
              "      <td>1.92</td>\n",
              "      <td>0.15</td>\n",
              "    </tr>\n",
              "    <tr>\n",
              "      <td>[CLS] how do i reach front office [SEP]</td>\n",
              "      <td>hotel.is_there_late_check_out</td>\n",
              "      <td>hotel.where_is_the_front_desk_located</td>\n",
              "      <td>1.56</td>\n",
              "      <td>0.04</td>\n",
              "    </tr>\n",
              "    <tr>\n",
              "      <td>[CLS] i would like to know the check in time [SEP]</td>\n",
              "      <td>hotel.is_there_early_check_in</td>\n",
              "      <td>hotel.when_is_check_in</td>\n",
              "      <td>1.46</td>\n",
              "      <td>0.23</td>\n",
              "    </tr>\n",
              "    <tr>\n",
              "      <td>[CLS] where is the office [SEP]</td>\n",
              "      <td>hotel.is_there_early_check_in</td>\n",
              "      <td>hotel.where_is_the_front_desk_located</td>\n",
              "      <td>1.46</td>\n",
              "      <td>0.08</td>\n",
              "    </tr>\n",
              "    <tr>\n",
              "      <td>[CLS] where is the front desk [SEP]</td>\n",
              "      <td>hotel.is_there_early_check_in</td>\n",
              "      <td>hotel.where_is_the_front_desk_located</td>\n",
              "      <td>1.45</td>\n",
              "      <td>0.07</td>\n",
              "    </tr>\n",
              "    <tr>\n",
              "      <td>[CLS] i need to go to the front desk [SEP]</td>\n",
              "      <td>hotel.is_there_late_check_out</td>\n",
              "      <td>hotel.where_is_the_front_desk_located</td>\n",
              "      <td>1.44</td>\n",
              "      <td>0.05</td>\n",
              "    </tr>\n",
              "    <tr>\n",
              "      <td>[CLS] can you advise the check in time [SEP]</td>\n",
              "      <td>hotel.is_there_late_check_out</td>\n",
              "      <td>hotel.when_is_check_in</td>\n",
              "      <td>1.43</td>\n",
              "      <td>0.24</td>\n",
              "    </tr>\n",
              "    <tr>\n",
              "      <td>[CLS] is there any way to check ##out late [SEP]</td>\n",
              "      <td>hotel.is_there_late_check_out</td>\n",
              "      <td>hotel.is_there_late_check_out</td>\n",
              "      <td>1.42</td>\n",
              "      <td>0.34</td>\n",
              "    </tr>\n",
              "    <tr>\n",
              "      <td>[CLS] check - out time [SEP]</td>\n",
              "      <td>hotel.is_there_early_check_in</td>\n",
              "      <td>hotel.when_is_check_out</td>\n",
              "      <td>1.42</td>\n",
              "      <td>0.16</td>\n",
              "    </tr>\n",
              "    <tr>\n",
              "      <td>[CLS] how much is early check in [SEP]</td>\n",
              "      <td>hotel.is_there_early_check_in</td>\n",
              "      <td>hotel.is_there_early_check_in</td>\n",
              "      <td>1.41</td>\n",
              "      <td>0.32</td>\n",
              "    </tr>\n",
              "    <tr>\n",
              "      <td>[CLS] may i check - out in advance [SEP]</td>\n",
              "      <td>hotel.is_there_late_check_out</td>\n",
              "      <td>hotel.is_there_late_check_out</td>\n",
              "      <td>1.41</td>\n",
              "      <td>0.35</td>\n",
              "    </tr>\n",
              "    <tr>\n",
              "      <td>[CLS] what is the earliest i can check ##out [SEP]</td>\n",
              "      <td>hotel.is_there_early_check_in</td>\n",
              "      <td>hotel.when_is_check_out</td>\n",
              "      <td>1.40</td>\n",
              "      <td>0.17</td>\n",
              "    </tr>\n",
              "    <tr>\n",
              "      <td>[CLS] where ' s the lobby [SEP]</td>\n",
              "      <td>hotel.is_there_late_check_out</td>\n",
              "      <td>hotel.where_is_the_front_desk_located</td>\n",
              "      <td>1.40</td>\n",
              "      <td>0.06</td>\n",
              "    </tr>\n",
              "    <tr>\n",
              "      <td>[CLS] where is receptionist [SEP]</td>\n",
              "      <td>hotel.is_there_early_check_in</td>\n",
              "      <td>hotel.where_is_the_front_desk_located</td>\n",
              "      <td>1.40</td>\n",
              "      <td>0.06</td>\n",
              "    </tr>\n",
              "    <tr>\n",
              "      <td>[CLS] which floor is the con ##cier ##ge desk [SEP]</td>\n",
              "      <td>hotel.is_there_early_check_in</td>\n",
              "      <td>hotel.where_is_the_front_desk_located</td>\n",
              "      <td>1.40</td>\n",
              "      <td>0.06</td>\n",
              "    </tr>\n",
              "    <tr>\n",
              "      <td>[CLS] what is the consequence of late check out [SEP]</td>\n",
              "      <td>hotel.is_there_late_check_out</td>\n",
              "      <td>hotel.is_there_late_check_out</td>\n",
              "      <td>1.40</td>\n",
              "      <td>0.28</td>\n",
              "    </tr>\n",
              "    <tr>\n",
              "      <td>[CLS] can we delay check out to 2 ##pm [SEP]</td>\n",
              "      <td>hotel.is_there_early_check_in</td>\n",
              "      <td>hotel.is_there_late_check_out</td>\n",
              "      <td>1.40</td>\n",
              "      <td>0.23</td>\n",
              "    </tr>\n",
              "  </tbody>\n",
              "</table>"
            ],
            "text/plain": [
              "<IPython.core.display.HTML object>"
            ]
          },
          "metadata": {
            "tags": []
          }
        }
      ]
    }
  ]
}